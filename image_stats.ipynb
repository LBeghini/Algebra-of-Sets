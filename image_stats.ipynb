{
  "nbformat": 4,
  "nbformat_minor": 0,
  "metadata": {
    "colab": {
      "name": "image_stats.ipynb",
      "provenance": [],
      "authorship_tag": "ABX9TyORs+ZoUjlO7rgtz+pnTrby",
      "include_colab_link": true
    },
    "kernelspec": {
      "name": "python3",
      "display_name": "Python 3"
    },
    "language_info": {
      "name": "python"
    }
  },
  "cells": [
    {
      "cell_type": "markdown",
      "metadata": {
        "id": "view-in-github",
        "colab_type": "text"
      },
      "source": [
        "<a href=\"https://colab.research.google.com/github/LBeghini/Algebra-of-Sets/blob/master/image_stats.ipynb\" target=\"_parent\"><img src=\"https://colab.research.google.com/assets/colab-badge.svg\" alt=\"Open In Colab\"/></a>"
      ]
    },
    {
      "cell_type": "code",
      "execution_count": null,
      "metadata": {
        "id": "xqezYiq7z2g1"
      },
      "outputs": [],
      "source": [
        "import numpy as np"
      ]
    },
    {
      "cell_type": "code",
      "source": [
        "def get_all_stats_by_line(image):\n",
        "  indices = [i for i, _ in enumerate(image)]\n",
        "  median = get_median_by_line(image)\n",
        "  average = get_average_by_line(image)\n",
        "  mean = get_mean_by_line(image)\n",
        "  std = get_std_by_line(image)\n",
        "  var = get_var_by_line(image)\n",
        "  sum_line = get_sum_by_line(image)\n",
        "\n",
        "  return indices, median, average, mean, std, var, sum_line"
      ],
      "metadata": {
        "id": "wr71GVe_0Lx9"
      },
      "execution_count": null,
      "outputs": []
    },
    {
      "cell_type": "code",
      "source": [
        "def get_stats_by_line_dict(image):\n",
        "  indices = [i for i, _ in enumerate(image)]\n",
        "  median = get_median_by_line(image)\n",
        "  average = get_average_by_line(image)\n",
        "  mean = get_mean_by_line(image)\n",
        "  std = get_std_by_line(image)\n",
        "  var = get_var_by_line(image)\n",
        "  sum_line = get_sum_by_line(image)\n",
        "\n",
        "  return {\n",
        "      \"median\": median,\n",
        "      \"average\": average,\n",
        "      \"mean\": mean,\n",
        "      \"std\": std,\n",
        "      }"
      ],
      "metadata": {
        "id": "aeS7M3hR9sNG"
      },
      "execution_count": null,
      "outputs": []
    },
    {
      "cell_type": "code",
      "source": [
        "def get_all_stats(image):\n",
        "  total_median = get_median(image)\n",
        "  total_average = get_average(image)\n",
        "  total_mean = get_mean(image)\n",
        "  total_std = get_std(image)\n",
        "  total_var = get_var(image)\n",
        "\n",
        "  return total_median, total_average, total_mean, total_std, total_var"
      ],
      "metadata": {
        "id": "buz1cxD50UN4"
      },
      "execution_count": null,
      "outputs": []
    },
    {
      "cell_type": "code",
      "source": [
        "def get_median(image):\n",
        "  return np.median(image)\n",
        "\n",
        "def get_median_by_line(image):\n",
        "  return [np.median(i) for i in image]"
      ],
      "metadata": {
        "id": "0SMTWcTD0sn5"
      },
      "execution_count": null,
      "outputs": []
    },
    {
      "cell_type": "code",
      "source": [
        "def get_average(image):\n",
        "  return np.average(image)\n",
        "\n",
        "def get_average_by_line(image):\n",
        "  return [np.average(i) for i in image]"
      ],
      "metadata": {
        "id": "NL6so7G00-i8"
      },
      "execution_count": null,
      "outputs": []
    },
    {
      "cell_type": "code",
      "source": [
        "def get_mean(image):\n",
        "  return np.mean(image)\n",
        "\n",
        "def get_mean_by_line(image):\n",
        "  return [np.mean(i) for i in image]"
      ],
      "metadata": {
        "id": "Q_BecvKb1AOR"
      },
      "execution_count": null,
      "outputs": []
    },
    {
      "cell_type": "code",
      "source": [
        "def get_std(image):\n",
        "  return np.std(image)\n",
        "\n",
        "def get_std_by_line(image):\n",
        "  return [np.std(i) for i in image]"
      ],
      "metadata": {
        "id": "FUW5o5op1Bt_"
      },
      "execution_count": null,
      "outputs": []
    },
    {
      "cell_type": "code",
      "source": [
        "def get_var(image):\n",
        "  return np.var(image)\n",
        "\n",
        "def get_var_by_line(image):\n",
        "  return [np.median(i) for i in image]"
      ],
      "metadata": {
        "id": "PY5yzJxj1Cvf"
      },
      "execution_count": null,
      "outputs": []
    },
    {
      "cell_type": "code",
      "source": [
        "def get_sum_by_line(image):\n",
        "  return [sum(i) for i in image]"
      ],
      "metadata": {
        "id": "z8jsyfer1DZU"
      },
      "execution_count": null,
      "outputs": []
    }
  ]
}